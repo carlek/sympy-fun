{
 "cells": [
  {
   "cell_type": "code",
   "execution_count": 5,
   "metadata": {},
   "outputs": [
    {
     "data": {
      "text/latex": [
       "$\\displaystyle \\text{Triangle } OME:$"
      ],
      "text/plain": [
       "<IPython.core.display.Math object>"
      ]
     },
     "metadata": {},
     "output_type": "display_data"
    },
    {
     "data": {
      "text/latex": [
       "$\\displaystyle OE^{2} = EM^{2} + OM^{2}$"
      ],
      "text/plain": [
       "<IPython.core.display.Math object>"
      ]
     },
     "metadata": {},
     "output_type": "display_data"
    },
    {
     "data": {
      "text/latex": [
       "$\\displaystyle OE = \\sqrt{EM^{2} + OM^{2}} = R - r_{1}$"
      ],
      "text/plain": [
       "<IPython.core.display.Math object>"
      ]
     },
     "metadata": {},
     "output_type": "display_data"
    },
    {
     "data": {
      "text/latex": [
       "$\\displaystyle EM = r_{1}\\;;\\;OM = h + r_{1}$"
      ],
      "text/plain": [
       "<IPython.core.display.Math object>"
      ]
     },
     "metadata": {},
     "output_type": "display_data"
    },
    {
     "data": {
      "text/latex": [
       "$\\displaystyle  \\Rightarrow \\sqrt{r_{1}^{2} + \\left(h + r_{1}\\right)^{2}} = R - r_{1}$"
      ],
      "text/plain": [
       "<IPython.core.display.Math object>"
      ]
     },
     "metadata": {},
     "output_type": "display_data"
    },
    {
     "data": {
      "text/latex": [
       "$\\displaystyle r_1 = \\sqrt{2} \\sqrt{R} \\sqrt{R + h} - R - h$"
      ],
      "text/plain": [
       "<IPython.core.display.Math object>"
      ]
     },
     "metadata": {},
     "output_type": "display_data"
    },
    {
     "data": {
      "text/latex": [
       "$\\displaystyle \\text{Integer solutions for }h=1:2025: R=2025$"
      ],
      "text/plain": [
       "<IPython.core.display.Math object>"
      ]
     },
     "metadata": {},
     "output_type": "display_data"
    },
    {
     "name": "stdout",
     "output_type": "stream",
     "text": [
      "h=23, r=832\n",
      "h=153, r=792\n",
      "h=287, r=748\n",
      "h=425, r=700\n",
      "h=567, r=648\n",
      "h=713, r=592\n",
      "h=863, r=532\n",
      "h=1017, r=468\n",
      "h=1175, r=400\n",
      "h=1337, r=328\n",
      "h=1503, r=252\n",
      "h=1673, r=172\n",
      "h=1847, r=88\n"
     ]
    }
   ],
   "source": [
    "import sympy as sp\n",
    "from IPython.display import display, Math\n",
    "\n",
    "# Define symbols\n",
    "R, r1, h = sp.symbols('R r1 h', positive=True, integer=True)\n",
    "EM, OE, OM, AC = sp.symbols('EM OE OM AC', positive=True)\n",
    "\n",
    "display(Math(r\"\\text{Triangle } OME:\"))\n",
    "\n",
    "display(Math(sp.latex(sp.Eq(OE**2, OM**2+EM**2 ))))\n",
    "OE1 = sp.sqrt(EM**2 + OM**2)\n",
    "OE2 = R - r1\n",
    "OE_equation = sp.Eq(OE1, OE2)\n",
    "\n",
    "display(Math(r\"OE = \" + sp.latex(OE_equation)))\n",
    "\n",
    "display(Math(sp.latex(sp.Eq(EM, r1)) + r\"\\;;\\;\" +\n",
    "             sp.latex(sp.Eq(OM, r1+h))))\n",
    "\n",
    "EM = r1\n",
    "OM = h + r1\n",
    "OE1 = sp.sqrt(EM**2 + OM**2)\n",
    "OE_equation = sp.Eq(OE1, OE2)\n",
    "display(Math(r\" \\Rightarrow \" + sp.latex(OE_equation)))\n",
    "\n",
    "r1_solution = sp.solve(OE_equation, r1)\n",
    "display(Math(r\"r_1 = \" + sp.latex(r1_solution[0])))\n",
    "display(Math(r\"\\text{Integer solutions for }h=1:2025: R=2025\"))\n",
    "\n",
    "for h_i in range(1, 2025):\n",
    "    r1 = r1_solution[0].subs({h:h_i, R:2025}).evalf()\n",
    "    if int(r1) == r1 and r1 > 0:\n",
    "        print(f\"h={h_i}, r={int(r1)}\")\n"
   ]
  },
  {
   "cell_type": "code",
   "execution_count": 4,
   "metadata": {},
   "outputs": [
    {
     "data": {
      "text/latex": [
       "$\\displaystyle r_{2}^{2} + x_{a}^{2} = \\left(R - r_{2}\\right)^{2} = R^{2} - 2 R r_{2} + r_{2}^{2}$"
      ],
      "text/plain": [
       "<IPython.core.display.Math object>"
      ]
     },
     "metadata": {},
     "output_type": "display_data"
    },
    {
     "data": {
      "text/latex": [
       "$\\displaystyle x_a^2 = R^{2} - 2 R r_{2}$"
      ],
      "text/plain": [
       "<IPython.core.display.Math object>"
      ]
     },
     "metadata": {},
     "output_type": "display_data"
    },
    {
     "data": {
      "text/latex": [
       "$\\displaystyle x_b = 2 r_{2} + x_{a}$"
      ],
      "text/plain": [
       "<IPython.core.display.Math object>"
      ]
     },
     "metadata": {},
     "output_type": "display_data"
    },
    {
     "data": {
      "text/latex": [
       "$\\displaystyle - R h + h x_{b} + r_{2} \\sqrt{R^{2} - h^{2}} = - R r_{2}$"
      ],
      "text/plain": [
       "<IPython.core.display.Math object>"
      ]
     },
     "metadata": {},
     "output_type": "display_data"
    },
    {
     "data": {
      "text/latex": [
       "$\\displaystyle \\text{Solve for }r_2:$"
      ],
      "text/plain": [
       "<IPython.core.display.Math object>"
      ]
     },
     "metadata": {},
     "output_type": "display_data"
    },
    {
     "data": {
      "text/latex": [
       "$\\displaystyle r_2=\\quad0$"
      ],
      "text/plain": [
       "<IPython.core.display.Math object>"
      ]
     },
     "metadata": {},
     "output_type": "display_data"
    },
    {
     "data": {
      "text/latex": [
       "$\\displaystyle r_2=\\quad\\frac{2 R h \\left(R + h + \\sqrt{R^{2} - h^{2}}\\right)}{2 R^{2} + 4 R h + 2 R \\sqrt{R^{2} - h^{2}} + 3 h^{2} + 4 h \\sqrt{R^{2} - h^{2}}}$"
      ],
      "text/plain": [
       "<IPython.core.display.Math object>"
      ]
     },
     "metadata": {},
     "output_type": "display_data"
    },
    {
     "data": {
      "text/latex": [
       "$\\displaystyle \\text{Integer solutions for }h=1:2025: R=2025$"
      ],
      "text/plain": [
       "<IPython.core.display.Math object>"
      ]
     },
     "metadata": {},
     "output_type": "display_data"
    },
    {
     "data": {
      "text/latex": [
       "$\\displaystyle r_2 = 400 \\quad h=567$"
      ],
      "text/plain": [
       "<IPython.core.display.Math object>"
      ]
     },
     "metadata": {},
     "output_type": "display_data"
    },
    {
     "data": {
      "text/latex": [
       "$\\displaystyle r_2 = 648 \\quad h=1215$"
      ],
      "text/plain": [
       "<IPython.core.display.Math object>"
      ]
     },
     "metadata": {},
     "output_type": "display_data"
    }
   ],
   "source": [
    "import sympy as sp\n",
    "from IPython.display import display, Math\n",
    "\n",
    "R, h = sp.symbols('R h', positive=True)\n",
    "r2 = sp.Symbol('r2', real=True)\n",
    "x_a = sp.Symbol('x_a', real=True)\n",
    "x_b = sp.Symbol('x_b', real=True)\n",
    "\n",
    "# Tangency to big circle: O2a at (x_a, r2)\n",
    "rhs = (R - r2)**2\n",
    "lhs = x_a**2 + r2**2\n",
    "eq1 = sp.Eq(lhs, rhs)\n",
    "display(Math(sp.latex(eq1) + \" = \" + sp.latex(sp.expand(rhs))))\n",
    "xa_equation = sp.solve(eq1, x_a**2)[0]\n",
    "display(Math(r\"x_a^2 = \" + sp.latex(sp.expand(xa_equation))))\n",
    "\n",
    "# Tangency O2^a <-> O2^b: same y=r2 => x_b - x_a = 2*r2\n",
    "eq2 = sp.Eq(x_b - x_a, 2*r2)\n",
    "display(Math(r\"x_b = \" + sp.latex(sp.solve(eq2, x_b)[0])))\n",
    "\n",
    "# Tangency O2^b <-> chord:\n",
    "#    The circle center is below the line, so the signed distance\n",
    "#    is negative, meaning h*x_b + sqrt(R^2 - h^2)*r2 - h*R = -R*r2\n",
    "eq3 = sp.Eq(\n",
    "    h*x_b + sp.sqrt(R**2 - h**2)*r2 - h*R,\n",
    "    -R*r2\n",
    ")\n",
    "display(Math(sp.latex(eq3)))\n",
    "\n",
    "# Solve \n",
    "solutions = sp.solve([eq1, eq2, eq3], [x_a, x_b, r2], dict=True)\n",
    "\n",
    "display(Math(r\"\\text{Solve for }r_2:\"))\n",
    "for sol in solutions:\n",
    "    display(Math(r\"r_2=\\quad\" + sp.latex(sol[r2])))\n",
    "    if sol[r2]:\n",
    "        solution = sol\n",
    "        \n",
    "display(Math(r\"\\text{Integer solutions for }h=1:2025: R=2025\"))\n",
    "for h_i in range(1, 2025):\n",
    "    r2_val = solution[r2].subs({h:h_i, R:2025}).evalf()\n",
    "    if int(r2_val) == r2_val and r2_val > 0:\n",
    "        display(Math(r\"r_2 = \" + f\"{int(r2_val)}\" + \" \\quad \" + f\"h={h_i}\"))"
   ]
  }
 ],
 "metadata": {
  "kernelspec": {
   "display_name": ".venv",
   "language": "python",
   "name": "python3"
  },
  "language_info": {
   "codemirror_mode": {
    "name": "ipython",
    "version": 3
   },
   "file_extension": ".py",
   "mimetype": "text/x-python",
   "name": "python",
   "nbconvert_exporter": "python",
   "pygments_lexer": "ipython3",
   "version": "3.11.4"
  }
 },
 "nbformat": 4,
 "nbformat_minor": 2
}
